{
  "nbformat": 4,
  "nbformat_minor": 0,
  "metadata": {
    "colab": {
      "name": "Exercise_002.ipynb",
      "provenance": [],
      "collapsed_sections": [],
      "authorship_tag": "ABX9TyPR+EN48tSXWQtRaNEpK4cm",
      "include_colab_link": true
    },
    "kernelspec": {
      "name": "python3",
      "display_name": "Python 3"
    },
    "language_info": {
      "name": "python"
    }
  },
  "cells": [
    {
      "cell_type": "markdown",
      "metadata": {
        "id": "view-in-github",
        "colab_type": "text"
      },
      "source": [
        "<a href=\"https://colab.research.google.com/github/ADerbak/Udemy_PandasDataScience_130Exercises/blob/main/Exercise_002.ipynb\" target=\"_parent\"><img src=\"https://colab.research.google.com/assets/colab-badge.svg\" alt=\"Open In Colab\"/></a>"
      ]
    },
    {
      "cell_type": "markdown",
      "source": [
        "Using pandas, from the dictionary below:\n",
        "\n",
        "\n",
        "\n",
        "stocks = {'PLW': 387.00, 'CDR': 339.5, 'TEN': 349.5, '11B': 391.0}\n",
        "\n",
        "\n",
        "create a Series object and assign it to the quotations variable. In response, print quotations variable to the console.\n",
        "\n",
        "\n",
        "\n",
        "Expected result:\n",
        "\n",
        "\n",
        "\n",
        "PLW    387.0\n",
        "CDR    339.5\n",
        "TEN    349.5\n",
        "11B    391.0\n",
        "dtype: float64"
      ],
      "metadata": {
        "id": "6LnxrT9R6Q2G"
      }
    },
    {
      "cell_type": "code",
      "execution_count": null,
      "metadata": {
        "id": "EwIJRNv86Mrq"
      },
      "outputs": [],
      "source": [
        "import pandas as pd"
      ]
    },
    {
      "cell_type": "code",
      "source": [
        "stocks = {'PLW': 387.00, 'CDR': 339.5, 'TEN': 349.5, '11B': 391.0}"
      ],
      "metadata": {
        "id": "DSKNn7od6Zqh"
      },
      "execution_count": null,
      "outputs": []
    },
    {
      "cell_type": "code",
      "source": [
        "# print(pd.Series(stocks.values(), stocks.keys()))"
      ],
      "metadata": {
        "colab": {
          "base_uri": "https://localhost:8080/"
        },
        "id": "riYzVU256frA",
        "outputId": "2c56d637-5e57-4c5c-d175-5a03b3b9c2c1"
      },
      "execution_count": null,
      "outputs": [
        {
          "output_type": "stream",
          "name": "stdout",
          "text": [
            "PLW    387.0\n",
            "CDR    339.5\n",
            "TEN    349.5\n",
            "11B    391.0\n",
            "dtype: float64\n"
          ]
        }
      ]
    },
    {
      "cell_type": "code",
      "source": [
        "# for k,v in stocks.items():\n",
        "#   print(k, v)"
      ],
      "metadata": {
        "colab": {
          "base_uri": "https://localhost:8080/"
        },
        "id": "WJfCGF4O7JOe",
        "outputId": "ec524bea-eb9f-43a4-dfa9-4030bbbf945f"
      },
      "execution_count": null,
      "outputs": [
        {
          "output_type": "stream",
          "name": "stdout",
          "text": [
            "PLW 387.0\n",
            "CDR 339.5\n",
            "TEN 349.5\n",
            "11B 391.0\n"
          ]
        }
      ]
    },
    {
      "cell_type": "code",
      "source": [
        "# print(pd.Series(stocks))\n",
        "\n",
        "quotations = pd.Series(stocks)\n",
        "print(quotations)"
      ],
      "metadata": {
        "colab": {
          "base_uri": "https://localhost:8080/"
        },
        "id": "uXzz-YAW7eD-",
        "outputId": "b454fca6-422e-49cb-b12f-c4a7f70229b1"
      },
      "execution_count": 18,
      "outputs": [
        {
          "output_type": "stream",
          "name": "stdout",
          "text": [
            "PLW    387.0\n",
            "CDR    339.5\n",
            "TEN    349.5\n",
            "11B    391.0\n",
            "dtype: float64\n"
          ]
        }
      ]
    }
  ]
}